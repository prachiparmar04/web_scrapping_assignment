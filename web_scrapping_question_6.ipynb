{
 "cells": [
  {
   "cell_type": "markdown",
   "metadata": {},
   "source": [
    "## 6. Write a python program to scrape cricket rankings from ‘www.icc-cricket.com’. You have to scrape:\n",
    "    i) Top 10 ODI teams in women’s cricket along with the records for matches, points and rating.\n",
    "    ii) Top 10 women’s ODI players along with the records of their team and rating.\n",
    "    iii) Top 10 women’s ODI all-rounder along with the records of their team and rating.\n",
    " "
   ]
  },
  {
   "cell_type": "code",
   "execution_count": 212,
   "metadata": {},
   "outputs": [],
   "source": [
    "import requests\n",
    "from bs4 import BeautifulSoup"
   ]
  },
  {
   "cell_type": "code",
   "execution_count": 213,
   "metadata": {},
   "outputs": [],
   "source": [
    "women_url = requests.get('https://www.icc-cricket.com/rankings/womens/team-rankings/odi')"
   ]
  },
  {
   "cell_type": "code",
   "execution_count": 214,
   "metadata": {},
   "outputs": [
    {
     "data": {
      "text/plain": [
       "<Response [200]>"
      ]
     },
     "execution_count": 214,
     "metadata": {},
     "output_type": "execute_result"
    }
   ],
   "source": [
    "women_url"
   ]
  },
  {
   "cell_type": "code",
   "execution_count": 215,
   "metadata": {},
   "outputs": [],
   "source": [
    "soup = BeautifulSoup(women_url.content)"
   ]
  },
  {
   "cell_type": "code",
   "execution_count": 216,
   "metadata": {},
   "outputs": [],
   "source": [
    "teams = soup.find_all('td',class_='table-body__cell rankings-table__team')\n",
    "matches_points = soup.find_all('td',class_='table-body__cell u-center-text')\n",
    "\n",
    "rating_teams = soup.find_all('td',class_='table-body__cell u-text-right rating')"
   ]
  },
  {
   "cell_type": "code",
   "execution_count": 217,
   "metadata": {
    "scrolled": true
   },
   "outputs": [
    {
     "data": {
      "text/plain": [
       "[<td class=\"table-body__cell rankings-table__team\">\n",
       " <span class=\"flag-15 table-body_logo SA\"></span>\n",
       " <span class=\"u-hide-phablet\">South Africa</span>\n",
       " <span class=\"u-show-phablet\">SA</span>\n",
       " </td>,\n",
       " <td class=\"table-body__cell rankings-table__team\">\n",
       " <span class=\"flag-15 table-body_logo ENG\"></span>\n",
       " <span class=\"u-hide-phablet\">England</span>\n",
       " <span class=\"u-show-phablet\">ENG</span>\n",
       " </td>,\n",
       " <td class=\"table-body__cell rankings-table__team\">\n",
       " <span class=\"flag-15 table-body_logo IND\"></span>\n",
       " <span class=\"u-hide-phablet\">India</span>\n",
       " <span class=\"u-show-phablet\">IND</span>\n",
       " </td>,\n",
       " <td class=\"table-body__cell rankings-table__team\">\n",
       " <span class=\"flag-15 table-body_logo NZ\"></span>\n",
       " <span class=\"u-hide-phablet\">New Zealand</span>\n",
       " <span class=\"u-show-phablet\">NZ</span>\n",
       " </td>,\n",
       " <td class=\"table-body__cell rankings-table__team\">\n",
       " <span class=\"flag-15 table-body_logo WI\"></span>\n",
       " <span class=\"u-hide-phablet\">West Indies</span>\n",
       " <span class=\"u-show-phablet\">WI</span>\n",
       " </td>,\n",
       " <td class=\"table-body__cell rankings-table__team\">\n",
       " <span class=\"flag-15 table-body_logo PAK\"></span>\n",
       " <span class=\"u-hide-phablet\">Pakistan</span>\n",
       " <span class=\"u-show-phablet\">PAK</span>\n",
       " </td>,\n",
       " <td class=\"table-body__cell rankings-table__team\">\n",
       " <span class=\"flag-15 table-body_logo BAN\"></span>\n",
       " <span class=\"u-hide-phablet\">Bangladesh</span>\n",
       " <span class=\"u-show-phablet\">BAN</span>\n",
       " </td>,\n",
       " <td class=\"table-body__cell rankings-table__team\">\n",
       " <span class=\"flag-15 table-body_logo SL\"></span>\n",
       " <span class=\"u-hide-phablet\">Sri Lanka</span>\n",
       " <span class=\"u-show-phablet\">SL</span>\n",
       " </td>,\n",
       " <td class=\"table-body__cell rankings-table__team\">\n",
       " <span class=\"flag-15 table-body_logo IRE\"></span>\n",
       " <span class=\"u-hide-phablet\">Ireland</span>\n",
       " <span class=\"u-show-phablet\">IRE</span>\n",
       " </td>]"
      ]
     },
     "execution_count": 217,
     "metadata": {},
     "output_type": "execute_result"
    }
   ],
   "source": [
    "teams"
   ]
  },
  {
   "cell_type": "code",
   "execution_count": 218,
   "metadata": {},
   "outputs": [],
   "source": [
    "odi_teams_wm = []\n",
    "for i in teams[:9]:\n",
    "    for j in i.find('span',class_='u-hide-phablet'):\n",
    "        odi_teams_wm.append(j)\n",
    "\n",
    "        \n",
    "points = []\n",
    "matches = []\n",
    "c = 0\n",
    "for i in matches_points[:18]:\n",
    "    if(c%2==0):\n",
    "        matches.append(i.text)\n",
    "    else:\n",
    "        points.append(i.text.replace(',',''))\n",
    "    c = c+1\n",
    "\n",
    "    \n",
    "team_rating = []\n",
    "for i in rating_teams[:9]:\n",
    "    team_rating.append(i.text)\n",
    "    "
   ]
  },
  {
   "cell_type": "code",
   "execution_count": 219,
   "metadata": {},
   "outputs": [
    {
     "data": {
      "text/plain": [
       "(['South Africa',\n",
       "  'England',\n",
       "  'India',\n",
       "  'New Zealand',\n",
       "  'West Indies',\n",
       "  'Pakistan',\n",
       "  'Bangladesh',\n",
       "  'Sri Lanka',\n",
       "  'Ireland'],\n",
       " ['2828', '1993', '2226', '1947', '1025', '1101', '306', '519', '25'],\n",
       " ['24', '17', '20', '21', '12', '15', '5', '11', '2'],\n",
       " ['118', '117', '111', '93', '85', '73', '61', '47', '13'])"
      ]
     },
     "execution_count": 219,
     "metadata": {},
     "output_type": "execute_result"
    }
   ],
   "source": [
    "odi_teams_wm,points,matches,team_rating"
   ]
  },
  {
   "cell_type": "markdown",
   "metadata": {},
   "source": [
    "### EXTRACTING TOP DETAILS OF ODI 1st  NUMBER TEAM"
   ]
  },
  {
   "cell_type": "code",
   "execution_count": 220,
   "metadata": {},
   "outputs": [],
   "source": [
    "top_match = soup.find('td',class_='rankings-block__banner--matches')\n",
    "top_point= soup.find('td',class_='rankings-block__banner--points')\n",
    "top_rating = soup.find('td',class_='rankings-block__banner--rating u-text-right')"
   ]
  },
  {
   "cell_type": "code",
   "execution_count": 221,
   "metadata": {},
   "outputs": [
    {
     "data": {
      "text/plain": [
       "(<td class=\"rankings-block__banner--matches\">18</td>,\n",
       " <td class=\"rankings-block__banner--points\">2,955</td>,\n",
       " <td class=\"rankings-block__banner--rating u-text-right\">\n",
       "                             164\n",
       "                             <span class=\"circle-branding circle-branding--top\"></span>\n",
       " <span class=\"circle-branding circle-branding--bottom\"></span>\n",
       " </td>)"
      ]
     },
     "execution_count": 221,
     "metadata": {},
     "output_type": "execute_result"
    }
   ],
   "source": [
    "top_match,top_point,top_rating"
   ]
  },
  {
   "cell_type": "code",
   "execution_count": 222,
   "metadata": {},
   "outputs": [],
   "source": [
    "top_team = soup.find('span','u-hide-phablet')"
   ]
  },
  {
   "cell_type": "code",
   "execution_count": 223,
   "metadata": {},
   "outputs": [],
   "source": [
    "odi_teams_wm.append(top_team.text)"
   ]
  },
  {
   "cell_type": "code",
   "execution_count": 224,
   "metadata": {},
   "outputs": [],
   "source": [
    "final_rating = top_rating.text.replace('\\n','')\n",
    "points.append(top_point.text.replace(',',''))\n",
    "matches.append(top_match.text)\n",
    "team_rating.append(final_rating.replace(' ',''))"
   ]
  },
  {
   "cell_type": "code",
   "execution_count": 225,
   "metadata": {},
   "outputs": [],
   "source": [
    "odi_team_top_dict = {\n",
    "    'TEAM NAME': odi_teams_wm, 'POINTS': points,'MATCHES':matches,'RATING': team_rating\n",
    "}"
   ]
  },
  {
   "cell_type": "code",
   "execution_count": 226,
   "metadata": {},
   "outputs": [],
   "source": [
    "import pandas as pd"
   ]
  },
  {
   "cell_type": "code",
   "execution_count": 227,
   "metadata": {},
   "outputs": [],
   "source": [
    "women_odi_table = pd.DataFrame(odi_team_top_dict)"
   ]
  },
  {
   "cell_type": "code",
   "execution_count": 228,
   "metadata": {},
   "outputs": [],
   "source": [
    "women_odi_table['RATING']=women_odi_table['RATING'].astype('int32')\n",
    "women_odi_table['POINTS']=women_odi_table['POINTS'].astype('int32')\n",
    "women_odi_table['MATCHES']=women_odi_table['MATCHES'].astype('int32')"
   ]
  },
  {
   "cell_type": "code",
   "execution_count": 229,
   "metadata": {},
   "outputs": [],
   "source": [
    "table_women_odi = women_odi_table.sort_values(by=['RATING'],ascending=False).reset_index()"
   ]
  },
  {
   "cell_type": "code",
   "execution_count": 230,
   "metadata": {},
   "outputs": [],
   "source": [
    "table_women_odi.drop('index',inplace=True,axis=1)"
   ]
  },
  {
   "cell_type": "code",
   "execution_count": 231,
   "metadata": {},
   "outputs": [
    {
     "data": {
      "text/html": [
       "<div>\n",
       "<style scoped>\n",
       "    .dataframe tbody tr th:only-of-type {\n",
       "        vertical-align: middle;\n",
       "    }\n",
       "\n",
       "    .dataframe tbody tr th {\n",
       "        vertical-align: top;\n",
       "    }\n",
       "\n",
       "    .dataframe thead th {\n",
       "        text-align: right;\n",
       "    }\n",
       "</style>\n",
       "<table border=\"1\" class=\"dataframe\">\n",
       "  <thead>\n",
       "    <tr style=\"text-align: right;\">\n",
       "      <th></th>\n",
       "      <th>TEAM NAME</th>\n",
       "      <th>POINTS</th>\n",
       "      <th>MATCHES</th>\n",
       "      <th>RATING</th>\n",
       "    </tr>\n",
       "  </thead>\n",
       "  <tbody>\n",
       "    <tr>\n",
       "      <th>0</th>\n",
       "      <td>Australia</td>\n",
       "      <td>2955</td>\n",
       "      <td>18</td>\n",
       "      <td>164</td>\n",
       "    </tr>\n",
       "    <tr>\n",
       "      <th>1</th>\n",
       "      <td>South Africa</td>\n",
       "      <td>2828</td>\n",
       "      <td>24</td>\n",
       "      <td>118</td>\n",
       "    </tr>\n",
       "    <tr>\n",
       "      <th>2</th>\n",
       "      <td>England</td>\n",
       "      <td>1993</td>\n",
       "      <td>17</td>\n",
       "      <td>117</td>\n",
       "    </tr>\n",
       "    <tr>\n",
       "      <th>3</th>\n",
       "      <td>India</td>\n",
       "      <td>2226</td>\n",
       "      <td>20</td>\n",
       "      <td>111</td>\n",
       "    </tr>\n",
       "    <tr>\n",
       "      <th>4</th>\n",
       "      <td>New Zealand</td>\n",
       "      <td>1947</td>\n",
       "      <td>21</td>\n",
       "      <td>93</td>\n",
       "    </tr>\n",
       "    <tr>\n",
       "      <th>5</th>\n",
       "      <td>West Indies</td>\n",
       "      <td>1025</td>\n",
       "      <td>12</td>\n",
       "      <td>85</td>\n",
       "    </tr>\n",
       "    <tr>\n",
       "      <th>6</th>\n",
       "      <td>Pakistan</td>\n",
       "      <td>1101</td>\n",
       "      <td>15</td>\n",
       "      <td>73</td>\n",
       "    </tr>\n",
       "    <tr>\n",
       "      <th>7</th>\n",
       "      <td>Bangladesh</td>\n",
       "      <td>306</td>\n",
       "      <td>5</td>\n",
       "      <td>61</td>\n",
       "    </tr>\n",
       "    <tr>\n",
       "      <th>8</th>\n",
       "      <td>Sri Lanka</td>\n",
       "      <td>519</td>\n",
       "      <td>11</td>\n",
       "      <td>47</td>\n",
       "    </tr>\n",
       "    <tr>\n",
       "      <th>9</th>\n",
       "      <td>Ireland</td>\n",
       "      <td>25</td>\n",
       "      <td>2</td>\n",
       "      <td>13</td>\n",
       "    </tr>\n",
       "  </tbody>\n",
       "</table>\n",
       "</div>"
      ],
      "text/plain": [
       "      TEAM NAME  POINTS  MATCHES  RATING\n",
       "0     Australia    2955       18     164\n",
       "1  South Africa    2828       24     118\n",
       "2       England    1993       17     117\n",
       "3         India    2226       20     111\n",
       "4   New Zealand    1947       21      93\n",
       "5   West Indies    1025       12      85\n",
       "6      Pakistan    1101       15      73\n",
       "7    Bangladesh     306        5      61\n",
       "8     Sri Lanka     519       11      47\n",
       "9       Ireland      25        2      13"
      ]
     },
     "execution_count": 231,
     "metadata": {},
     "output_type": "execute_result"
    }
   ],
   "source": [
    "table_women_odi"
   ]
  },
  {
   "cell_type": "markdown",
   "metadata": {},
   "source": [
    "## ii) Top 10 women’s ODI players along with the records of their team and rating."
   ]
  },
  {
   "cell_type": "code",
   "execution_count": 232,
   "metadata": {},
   "outputs": [],
   "source": [
    "url_women1 = requests.get('https://www.icc-cricket.com/rankings/womens/player-rankings/odi')"
   ]
  },
  {
   "cell_type": "code",
   "execution_count": 233,
   "metadata": {},
   "outputs": [
    {
     "data": {
      "text/plain": [
       "<Response [200]>"
      ]
     },
     "execution_count": 233,
     "metadata": {},
     "output_type": "execute_result"
    }
   ],
   "source": [
    " url_women1"
   ]
  },
  {
   "cell_type": "code",
   "execution_count": 234,
   "metadata": {},
   "outputs": [],
   "source": [
    "soup1 = BeautifulSoup(url_women1.content)"
   ]
  },
  {
   "cell_type": "code",
   "execution_count": 235,
   "metadata": {},
   "outputs": [],
   "source": [
    "players = soup1.find_all('td',class_='table-body__cell name')\n",
    "teams = soup1.find_all('span',class_='table-body__logo-text')\n",
    "rating_players  = soup1.find_all('td','table-body__cell u-text-right rating') "
   ]
  },
  {
   "cell_type": "code",
   "execution_count": 236,
   "metadata": {},
   "outputs": [],
   "source": [
    "pls = []\n",
    "for i in players[:9]:\n",
    "    for j in i.find('a'):\n",
    "        pls.append(j)\n",
    "\n",
    "\n",
    "teams_batsmen = []\n",
    "pl_batsmen_rating=[]\n",
    "\n",
    "for i in teams[:9]:\n",
    "    teams_batsmen.append(i.text)\n",
    "        \n",
    "        \n",
    "for i in rating_players[:9]:\n",
    "    pl_batsmen_rating.append(i.text)"
   ]
  },
  {
   "cell_type": "code",
   "execution_count": 237,
   "metadata": {},
   "outputs": [
    {
     "data": {
      "text/plain": [
       "['758', '756', '746', '723', '715', '710', '709', '685', '683']"
      ]
     },
     "execution_count": 237,
     "metadata": {},
     "output_type": "execute_result"
    }
   ],
   "source": [
    "pl_batsmen_rating"
   ]
  },
  {
   "cell_type": "markdown",
   "metadata": {},
   "source": [
    "#### EXTRACTING DETAILS OF top 1 banner player"
   ]
  },
  {
   "cell_type": "code",
   "execution_count": 238,
   "metadata": {},
   "outputs": [],
   "source": [
    "top_player_btm= soup1.find('div',class_='rankings-block__banner--name')\n",
    "top_team_btm= soup1.find('div',class_='rankings-block__banner--nationality')\n",
    "top_rating_btm = soup1.find('div',class_='rankings-block__banner--rating')"
   ]
  },
  {
   "cell_type": "code",
   "execution_count": 239,
   "metadata": {},
   "outputs": [
    {
     "data": {
      "text/plain": [
       "(<div class=\"rankings-block__banner--name\">Tammy Beaumont</div>,\n",
       " <div class=\"rankings-block__banner--rating\">765</div>,\n",
       " <div class=\"rankings-block__banner--nationality\">\n",
       " <div class=\"flag-15 ENG\"></div>\n",
       " <span class=\"rankings-block__banner--nation\"></span>ENG\n",
       "                             <div class=\"rankings-block__banner--rating\">765</div>\n",
       " </div>)"
      ]
     },
     "execution_count": 239,
     "metadata": {},
     "output_type": "execute_result"
    }
   ],
   "source": [
    "top_player_btm,top_rating_btm,top_team_btm"
   ]
  },
  {
   "cell_type": "code",
   "execution_count": 240,
   "metadata": {},
   "outputs": [],
   "source": [
    "count = 0 \n",
    "country = ''\n",
    "for i in top_team_btm:\n",
    "    count = count+1\n",
    "    if(count==5):\n",
    "        country=i\n",
    "        \n",
    "top_tn = country.replace('\\n','')\n",
    "teams_batsmen.append(top_tn.replace(' ',''))\n",
    "pl_batsmen_rating.append(top_rating_btm.text)\n",
    "pls.append(top_player_btm.text)"
   ]
  },
  {
   "cell_type": "code",
   "execution_count": 241,
   "metadata": {},
   "outputs": [],
   "source": [
    "odi_women_bats_dict = {\n",
    "    'Team': teams_batsmen, 'Player': pls, 'Rating': pl_batsmen_rating\n",
    "}\n",
    "women_odi_btm_table = pd.DataFrame(odi_women_bats_dict\n",
    "                                )"
   ]
  },
  {
   "cell_type": "code",
   "execution_count": 242,
   "metadata": {},
   "outputs": [],
   "source": [
    " women_odi_btm_table['Rating'] = women_odi_btm_table['Rating'].astype('int')"
   ]
  },
  {
   "cell_type": "code",
   "execution_count": 243,
   "metadata": {},
   "outputs": [],
   "source": [
    "women_odi_btm_table = women_odi_btm_table.sort_values(by=['Rating'],ascending=False)"
   ]
  },
  {
   "cell_type": "code",
   "execution_count": 244,
   "metadata": {},
   "outputs": [],
   "source": [
    "table = women_odi_btm_table.reset_index()"
   ]
  },
  {
   "cell_type": "code",
   "execution_count": 245,
   "metadata": {},
   "outputs": [],
   "source": [
    "table.drop('index',axis=1,\n",
    "           inplace=True)"
   ]
  },
  {
   "cell_type": "code",
   "execution_count": 246,
   "metadata": {},
   "outputs": [
    {
     "data": {
      "text/html": [
       "<div>\n",
       "<style scoped>\n",
       "    .dataframe tbody tr th:only-of-type {\n",
       "        vertical-align: middle;\n",
       "    }\n",
       "\n",
       "    .dataframe tbody tr th {\n",
       "        vertical-align: top;\n",
       "    }\n",
       "\n",
       "    .dataframe thead th {\n",
       "        text-align: right;\n",
       "    }\n",
       "</style>\n",
       "<table border=\"1\" class=\"dataframe\">\n",
       "  <thead>\n",
       "    <tr style=\"text-align: right;\">\n",
       "      <th></th>\n",
       "      <th>Team</th>\n",
       "      <th>Player</th>\n",
       "      <th>Rating</th>\n",
       "    </tr>\n",
       "  </thead>\n",
       "  <tbody>\n",
       "    <tr>\n",
       "      <th>0</th>\n",
       "      <td>ENG</td>\n",
       "      <td>Tammy Beaumont</td>\n",
       "      <td>765</td>\n",
       "    </tr>\n",
       "    <tr>\n",
       "      <th>1</th>\n",
       "      <td>SA</td>\n",
       "      <td>Lizelle Lee</td>\n",
       "      <td>758</td>\n",
       "    </tr>\n",
       "    <tr>\n",
       "      <th>2</th>\n",
       "      <td>AUS</td>\n",
       "      <td>Alyssa Healy</td>\n",
       "      <td>756</td>\n",
       "    </tr>\n",
       "    <tr>\n",
       "      <th>3</th>\n",
       "      <td>WI</td>\n",
       "      <td>Stafanie Taylor</td>\n",
       "      <td>746</td>\n",
       "    </tr>\n",
       "    <tr>\n",
       "      <th>4</th>\n",
       "      <td>AUS</td>\n",
       "      <td>Meg Lanning</td>\n",
       "      <td>723</td>\n",
       "    </tr>\n",
       "    <tr>\n",
       "      <th>5</th>\n",
       "      <td>NZ</td>\n",
       "      <td>Amy Satterthwaite</td>\n",
       "      <td>715</td>\n",
       "    </tr>\n",
       "    <tr>\n",
       "      <th>6</th>\n",
       "      <td>IND</td>\n",
       "      <td>Smriti Mandhana</td>\n",
       "      <td>710</td>\n",
       "    </tr>\n",
       "    <tr>\n",
       "      <th>7</th>\n",
       "      <td>IND</td>\n",
       "      <td>Mithali Raj</td>\n",
       "      <td>709</td>\n",
       "    </tr>\n",
       "    <tr>\n",
       "      <th>8</th>\n",
       "      <td>ENG</td>\n",
       "      <td>Natalie Sciver</td>\n",
       "      <td>685</td>\n",
       "    </tr>\n",
       "    <tr>\n",
       "      <th>9</th>\n",
       "      <td>SA</td>\n",
       "      <td>Laura Wolvaardt</td>\n",
       "      <td>683</td>\n",
       "    </tr>\n",
       "  </tbody>\n",
       "</table>\n",
       "</div>"
      ],
      "text/plain": [
       "  Team             Player  Rating\n",
       "0  ENG     Tammy Beaumont     765\n",
       "1   SA        Lizelle Lee     758\n",
       "2  AUS       Alyssa Healy     756\n",
       "3   WI    Stafanie Taylor     746\n",
       "4  AUS        Meg Lanning     723\n",
       "5   NZ  Amy Satterthwaite     715\n",
       "6  IND    Smriti Mandhana     710\n",
       "7  IND        Mithali Raj     709\n",
       "8  ENG     Natalie Sciver     685\n",
       "9   SA    Laura Wolvaardt     683"
      ]
     },
     "execution_count": 246,
     "metadata": {},
     "output_type": "execute_result"
    }
   ],
   "source": [
    "table"
   ]
  },
  {
   "cell_type": "markdown",
   "metadata": {},
   "source": [
    "## iii) Top 10 women’s ODI all-rounder along with the records of their team and rating."
   ]
  },
  {
   "cell_type": "code",
   "execution_count": 247,
   "metadata": {},
   "outputs": [],
   "source": [
    "players_all_rounder = []\n",
    "for i in players[18:]:\n",
    "    for j in i.find('a'):\n",
    "        players_all_rounder.append(j)"
   ]
  },
  {
   "cell_type": "code",
   "execution_count": 248,
   "metadata": {},
   "outputs": [
    {
     "data": {
      "text/plain": [
       "['Ellyse Perry',\n",
       " 'Stafanie Taylor',\n",
       " 'Natalie Sciver',\n",
       " 'Deepti Sharma',\n",
       " 'Jess Jonassen',\n",
       " 'Ashleigh Gardner',\n",
       " 'Dane van Niekerk',\n",
       " 'Sophie Devine',\n",
       " 'Amelia Kerr']"
      ]
     },
     "execution_count": 248,
     "metadata": {},
     "output_type": "execute_result"
    }
   ],
   "source": [
    "players_all_rounder"
   ]
  },
  {
   "cell_type": "code",
   "execution_count": null,
   "metadata": {},
   "outputs": [],
   "source": []
  },
  {
   "cell_type": "code",
   "execution_count": 249,
   "metadata": {},
   "outputs": [],
   "source": [
    "teams_allRounder = []\n",
    "rating_all_rounder=[]\n",
    "\n",
    "for i in teams[18:]:\n",
    "    teams_allRounder.append(i.text)\n",
    "        \n",
    "        \n",
    "for i in rating_players[18:]:\n",
    "    rating_all_rounder.append(i.text)"
   ]
  },
  {
   "cell_type": "code",
   "execution_count": 250,
   "metadata": {},
   "outputs": [
    {
     "data": {
      "text/plain": [
       "['AUS', 'WI', 'ENG', 'IND', 'AUS', 'AUS', 'SA', 'NZ', 'NZ']"
      ]
     },
     "execution_count": 250,
     "metadata": {},
     "output_type": "execute_result"
    }
   ],
   "source": [
    "teams_allRounder"
   ]
  },
  {
   "cell_type": "markdown",
   "metadata": {},
   "source": [
    "### EXtracting information of 1st player"
   ]
  },
  {
   "cell_type": "code",
   "execution_count": 251,
   "metadata": {},
   "outputs": [],
   "source": [
    "top_player_ar= soup1.find_all('div',class_='rankings-block__banner--name')\n",
    "top_team_ar= soup1.find_all('div',class_='rankings-block__banner--nationality')\n",
    "top_rating_ar = soup1.find_all('div',class_='rankings-block__banner--rating')"
   ]
  },
  {
   "cell_type": "code",
   "execution_count": 252,
   "metadata": {},
   "outputs": [
    {
     "data": {
      "text/plain": [
       "([<div class=\"rankings-block__banner--name\">Tammy Beaumont</div>,\n",
       "  <div class=\"rankings-block__banner--name\">Jess Jonassen</div>,\n",
       "  <div class=\"rankings-block__banner--name\">Marizanne Kapp</div>],\n",
       " [<div class=\"rankings-block__banner--rating\">765</div>,\n",
       "  <div class=\"rankings-block__banner--rating\">808</div>,\n",
       "  <div class=\"rankings-block__banner--rating\">418</div>],\n",
       " [<div class=\"rankings-block__banner--nationality\">\n",
       "  <div class=\"flag-15 ENG\"></div>\n",
       "  <span class=\"rankings-block__banner--nation\"></span>ENG\n",
       "                              <div class=\"rankings-block__banner--rating\">765</div>\n",
       "  </div>,\n",
       "  <div class=\"rankings-block__banner--nationality\">\n",
       "  <div class=\"flag-15 AUS\"></div>\n",
       "  <span class=\"rankings-block__banner--nation\"></span>AUS\n",
       "                              <div class=\"rankings-block__banner--rating\">808</div>\n",
       "  </div>,\n",
       "  <div class=\"rankings-block__banner--nationality\">\n",
       "  <div class=\"flag-15 SA\"></div>\n",
       "  <span class=\"rankings-block__banner--nation\"></span>SA\n",
       "                              <div class=\"rankings-block__banner--rating\">418</div>\n",
       "  </div>])"
      ]
     },
     "execution_count": 252,
     "metadata": {},
     "output_type": "execute_result"
    }
   ],
   "source": [
    "top_player_ar,top_rating_ar,top_team_ar"
   ]
  },
  {
   "cell_type": "code",
   "execution_count": 253,
   "metadata": {},
   "outputs": [],
   "source": [
    "players_all_rounder.append(top_player_ar[-1].text)"
   ]
  },
  {
   "cell_type": "code",
   "execution_count": 254,
   "metadata": {},
   "outputs": [],
   "source": [
    "rating_all_rounder.append(top_rating_ar[-1].text)"
   ]
  },
  {
   "cell_type": "code",
   "execution_count": 255,
   "metadata": {},
   "outputs": [],
   "source": [
    "count = 0 \n",
    "cont = ''\n",
    "for i in top_team_ar[-1]:\n",
    "    count = count+1\n",
    "    if(count==5):\n",
    "        cont =i\n",
    "\n",
    "top_tn = cont.replace('\\n','')\n",
    "teams_allRounder.append(top_tn.replace(' ',''))\n"
   ]
  },
  {
   "cell_type": "code",
   "execution_count": 256,
   "metadata": {},
   "outputs": [
    {
     "data": {
      "text/plain": [
       "['AUS', 'WI', 'ENG', 'IND', 'AUS', 'AUS', 'SA', 'NZ', 'NZ', 'SA']"
      ]
     },
     "execution_count": 256,
     "metadata": {},
     "output_type": "execute_result"
    }
   ],
   "source": [
    "teams_allRounder"
   ]
  },
  {
   "cell_type": "code",
   "execution_count": 257,
   "metadata": {},
   "outputs": [],
   "source": [
    "odi_women_ar_dict = {\n",
    "    'Team': teams_allRounder, 'Player': players_all_rounder, 'Rating': rating_all_rounder\n",
    "}\n",
    "women_odi_btm_table = pd.DataFrame(odi_women_ar_dict\n",
    "                                )"
   ]
  },
  {
   "cell_type": "code",
   "execution_count": 258,
   "metadata": {},
   "outputs": [],
   "source": [
    " women_odi_btm_table['Rating'] = women_odi_btm_table['Rating'].astype('int')"
   ]
  },
  {
   "cell_type": "code",
   "execution_count": 259,
   "metadata": {},
   "outputs": [],
   "source": [
    "all_rounder_table = women_odi_btm_table.sort_values(by=['Rating'],ascending=False)"
   ]
  },
  {
   "cell_type": "code",
   "execution_count": 260,
   "metadata": {},
   "outputs": [],
   "source": [
    "table_ar = all_rounder_table.reset_index()"
   ]
  },
  {
   "cell_type": "code",
   "execution_count": 261,
   "metadata": {},
   "outputs": [],
   "source": [
    "table_ar.drop('index',axis=1,\n",
    "           inplace=True)"
   ]
  },
  {
   "cell_type": "code",
   "execution_count": 262,
   "metadata": {},
   "outputs": [
    {
     "data": {
      "text/html": [
       "<div>\n",
       "<style scoped>\n",
       "    .dataframe tbody tr th:only-of-type {\n",
       "        vertical-align: middle;\n",
       "    }\n",
       "\n",
       "    .dataframe tbody tr th {\n",
       "        vertical-align: top;\n",
       "    }\n",
       "\n",
       "    .dataframe thead th {\n",
       "        text-align: right;\n",
       "    }\n",
       "</style>\n",
       "<table border=\"1\" class=\"dataframe\">\n",
       "  <thead>\n",
       "    <tr style=\"text-align: right;\">\n",
       "      <th></th>\n",
       "      <th>Team</th>\n",
       "      <th>Player</th>\n",
       "      <th>Rating</th>\n",
       "    </tr>\n",
       "  </thead>\n",
       "  <tbody>\n",
       "    <tr>\n",
       "      <th>0</th>\n",
       "      <td>AUS</td>\n",
       "      <td>Ellyse Perry</td>\n",
       "      <td>418</td>\n",
       "    </tr>\n",
       "    <tr>\n",
       "      <th>1</th>\n",
       "      <td>SA</td>\n",
       "      <td>Marizanne Kapp</td>\n",
       "      <td>418</td>\n",
       "    </tr>\n",
       "    <tr>\n",
       "      <th>2</th>\n",
       "      <td>WI</td>\n",
       "      <td>Stafanie Taylor</td>\n",
       "      <td>410</td>\n",
       "    </tr>\n",
       "    <tr>\n",
       "      <th>3</th>\n",
       "      <td>ENG</td>\n",
       "      <td>Natalie Sciver</td>\n",
       "      <td>349</td>\n",
       "    </tr>\n",
       "    <tr>\n",
       "      <th>4</th>\n",
       "      <td>IND</td>\n",
       "      <td>Deepti Sharma</td>\n",
       "      <td>343</td>\n",
       "    </tr>\n",
       "    <tr>\n",
       "      <th>5</th>\n",
       "      <td>AUS</td>\n",
       "      <td>Jess Jonassen</td>\n",
       "      <td>307</td>\n",
       "    </tr>\n",
       "    <tr>\n",
       "      <th>6</th>\n",
       "      <td>AUS</td>\n",
       "      <td>Ashleigh Gardner</td>\n",
       "      <td>252</td>\n",
       "    </tr>\n",
       "    <tr>\n",
       "      <th>7</th>\n",
       "      <td>SA</td>\n",
       "      <td>Dane van Niekerk</td>\n",
       "      <td>243</td>\n",
       "    </tr>\n",
       "    <tr>\n",
       "      <th>8</th>\n",
       "      <td>NZ</td>\n",
       "      <td>Sophie Devine</td>\n",
       "      <td>242</td>\n",
       "    </tr>\n",
       "    <tr>\n",
       "      <th>9</th>\n",
       "      <td>NZ</td>\n",
       "      <td>Amelia Kerr</td>\n",
       "      <td>236</td>\n",
       "    </tr>\n",
       "  </tbody>\n",
       "</table>\n",
       "</div>"
      ],
      "text/plain": [
       "  Team            Player  Rating\n",
       "0  AUS      Ellyse Perry     418\n",
       "1   SA    Marizanne Kapp     418\n",
       "2   WI   Stafanie Taylor     410\n",
       "3  ENG    Natalie Sciver     349\n",
       "4  IND     Deepti Sharma     343\n",
       "5  AUS     Jess Jonassen     307\n",
       "6  AUS  Ashleigh Gardner     252\n",
       "7   SA  Dane van Niekerk     243\n",
       "8   NZ     Sophie Devine     242\n",
       "9   NZ       Amelia Kerr     236"
      ]
     },
     "execution_count": 262,
     "metadata": {},
     "output_type": "execute_result"
    }
   ],
   "source": [
    "table_ar"
   ]
  }
 ],
 "metadata": {
  "kernelspec": {
   "display_name": "Python 3",
   "language": "python",
   "name": "python3"
  },
  "language_info": {
   "codemirror_mode": {
    "name": "ipython",
    "version": 3
   },
   "file_extension": ".py",
   "mimetype": "text/x-python",
   "name": "python",
   "nbconvert_exporter": "python",
   "pygments_lexer": "ipython3",
   "version": "3.8.5"
  }
 },
 "nbformat": 4,
 "nbformat_minor": 4
}
